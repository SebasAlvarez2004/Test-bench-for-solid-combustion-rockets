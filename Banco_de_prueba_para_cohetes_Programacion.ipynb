import numpy as np
import pandas as pd
import matplotlib.pyplot as plt

#Pandas import data CSV
#Crear dataframe
data = pd.read_csv('/DataCuete2.csv', delimiter=';')
data.head()
fuerza_empuje = data['thrust']/9.81

# Cálculo del flujo másico
def calcular_flujo_masico(temperatura, fuerza_empuje):
    R = 287.05  # J/(kg·K)
    # Cálculo de la velocidad efectiva de escape (Isp)
    ve = np.sqrt((2 * fuerza_empuje) / R / temperatura)
    # Cálculo del flujo másico
    flujo_masico = fuerza_empuje / (ve*1000) #En Kg/s
    #print(flujo_masico)
    return flujo_masico

# Calcular el flujo másico para cada conjunto de datos
data['Flujo Masico (kg/s)'] = data.apply(lambda row: calcular_flujo_masico(row['temperatura'], row['thrust']), axis=1)

# Medidas de tendencia central
media_temperatura = data['temperatura'].mean()
media_fuerza_empuje = (data['thrust']/9.81).mean()
media_flujo_masico = data['Flujo Masico (kg/s)'].mean()

# Medidas de dispersión
desviacion_temperatura = data['temperatura'].std()
desviacion_fuerza_empuje = fuerza_empuje.std()
desviacion_flujo_masico = data['Flujo Masico (kg/s)'].std()

# Mostrar los resultados
print("Medidas de Tendencia Central:")
print(f"Media Temperatura: {media_temperatura} K")
print(f"Media Fuerza de Empuje: {media_fuerza_empuje} N")
print(f"Media Flujo Masico: {media_flujo_masico} kg/s")

print("\nMedidas de Dispersión:")
print(f"Desviación Temperatura: {desviacion_temperatura} K")
print(f"Desviación Fuerza de Empuje: {desviacion_fuerza_empuje} N")
print(f"Desviación Flujo Masico: {desviacion_flujo_masico} kg/s")

# Visualizar los datos
print("\nDatos:")
print(data)

#graficas
plt.scatter(fuerza_empuje, data['temperatura'])
plt.xlabel('Thrust (N)')
plt.ylabel('Temperature (K)')
plt.title('Thrust vs. Temperature')
plt.show()
plt.scatter(fuerza_empuje, data['Flujo Masico (kg/s)'])
plt.xlabel('Thrust (N)')
plt.ylabel('Flujo másico (Kg/s)')
plt.title('Thrust vs. flujo másico')
plt.show()
